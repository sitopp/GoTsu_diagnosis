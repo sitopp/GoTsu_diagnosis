{
  "nbformat": 4,
  "nbformat_minor": 0,
  "metadata": {
    "colab": {
      "provenance": [],
      "authorship_tag": "ABX9TyOl2I80zKHtmnW6WT4o2IVZ",
      "include_colab_link": true
    },
    "kernelspec": {
      "name": "python3",
      "display_name": "Python 3"
    },
    "language_info": {
      "name": "python"
    }
  },
  "cells": [
    {
      "cell_type": "markdown",
      "metadata": {
        "id": "view-in-github",
        "colab_type": "text"
      },
      "source": [
        "<a href=\"https://colab.research.google.com/github/sitopp/GoTsu_diagnosis/blob/main/GoTsu_diagnosis.ipynb\" target=\"_parent\"><img src=\"https://colab.research.google.com/assets/colab-badge.svg\" alt=\"Open In Colab\"/></a>"
      ]
    },
    {
      "cell_type": "code",
      "execution_count": 1,
      "metadata": {
        "colab": {
          "base_uri": "https://localhost:8080/"
        },
        "id": "udZzL2D3URCV",
        "outputId": "ad7159fa-8d48-477f-c8bd-8aa7db1f8e11"
      },
      "outputs": [
        {
          "output_type": "stream",
          "name": "stdout",
          "text": [
            "You're facing a formidable enemy who has defeated many of your allies...\n",
            "1. Charge into battle with your strategy, trusting your instincts.\n",
            "2. Consult with your allies first, seeking their input.\n",
            "3. Study the enemy more to find a weak point.\n",
            "Choose 1, 2, or 3: 3\n",
            "You've lost a significant battle...\n",
            "1. Seek solitude to mourn and plan your next moves.\n",
            "2. Rally the remaining forces, focusing on their morale.\n",
            "3. Seek counsel to understand what went wrong.\n",
            "Choose 1, 2, or 3: 2\n",
            "You've discovered a traitor among your ranks...\n",
            "1. Confront them publicly to expose their treachery.\n",
            "2. Investigate silently to gather more evidence.\n",
            "3. Use them to spread misinformation among the enemies.\n",
            "Choose 1, 2, or 3: 3\n",
            "You encounter a group of refugees from a recently conquered village...\n",
            "1. Help them, regardless of the risk.\n",
            "2. Offer them guidance to a safer location.\n",
            "3. Provide resources, but maintain your cover.\n",
            "Choose 1, 2, or 3: 2\n",
            "An enemy offers a truce, but you're suspicious of their motives...\n",
            "1. Accept the truce cautiously while remaining vigilant.\n",
            "2. Decline and continue the fight.\n",
            "3. Accept the truce and plan a surprise attack.\n",
            "Choose 1, 2, or 3: 1\n",
            "You have a chance to end the war by assassinating the enemy leader...\n",
            "1. Uphold the code and find another way to end the war.\n",
            "2. Break the code for the greater good.\n",
            "3. Consult your mentors about the moral dilemma.\n",
            "Choose 1, 2, or 3: 2\n",
            "If you had to choose one, which Samurai virtue would you uphold above all others?\n",
            "1. Righteousness\n",
            "2. Courage\n",
            "3. Benevolence\n",
            "4. Respect\n",
            "5. Honesty\n",
            "Choose 1, 2, or 3: 2\n",
            "\n",
            "Your character is: Khotun Khan\n"
          ]
        }
      ],
      "source": [
        "def ask_question(question, options):\n",
        "    print(question)\n",
        "    for number, option in enumerate(options, start=1):\n",
        "        print(f\"{number}. {option}\")\n",
        "    answer = int(input(\"Choose 1, 2, or 3: \"))\n",
        "    return answer\n",
        "\n",
        "questions = [\n",
        "    \"You're facing a formidable enemy who has defeated many of your allies...\",\n",
        "    \"You've lost a significant battle...\",\n",
        "    \"You've discovered a traitor among your ranks...\",\n",
        "    \"You encounter a group of refugees from a recently conquered village...\",\n",
        "    \"An enemy offers a truce, but you're suspicious of their motives...\",\n",
        "    \"You have a chance to end the war by assassinating the enemy leader...\",\n",
        "]\n",
        "\n",
        "options = [\n",
        "    [\"Charge into battle with your strategy, trusting your instincts.\",\n",
        "     \"Consult with your allies first, seeking their input.\",\n",
        "     \"Study the enemy more to find a weak point.\"],\n",
        "\n",
        "    [\"Seek solitude to mourn and plan your next moves.\",\n",
        "     \"Rally the remaining forces, focusing on their morale.\",\n",
        "     \"Seek counsel to understand what went wrong.\"],\n",
        "\n",
        "    [\"Confront them publicly to expose their treachery.\",\n",
        "     \"Investigate silently to gather more evidence.\",\n",
        "     \"Use them to spread misinformation among the enemies.\"],\n",
        "\n",
        "    [\"Help them, regardless of the risk.\",\n",
        "     \"Offer them guidance to a safer location.\",\n",
        "     \"Provide resources, but maintain your cover.\"],\n",
        "\n",
        "    [\"Accept the truce cautiously while remaining vigilant.\",\n",
        "     \"Decline and continue the fight.\",\n",
        "     \"Accept the truce and plan a surprise attack.\"],\n",
        "\n",
        "    [\"Uphold the code and find another way to end the war.\",\n",
        "     \"Break the code for the greater good.\",\n",
        "     \"Consult your mentors about the moral dilemma.\"],\n",
        "]\n",
        "\n",
        "answers = [0, 0, 0]\n",
        "\n",
        "for i in range(6):\n",
        "    answer = ask_question(questions[i], options[i])\n",
        "    answers[answer-1] += 1\n",
        "\n",
        "characters = {\n",
        "    (0, 1): \"Jin Sakai\",\n",
        "    (1, 0): \"Lord Shimura\",\n",
        "    (2, 2): \"Yuna\",\n",
        "    (0, 2): \"Taka\",\n",
        "    (0, 0): \"Kenji\",\n",
        "    (1, 2): \"Ryuzo\",\n",
        "    (2, 0): \"Sensei Ishikawa\",\n",
        "    (2, 1): \"Masako Adachi\",\n",
        "    (1, 1): \"Khotun Khan\",\n",
        "}\n",
        "\n",
        "tiebreaker_answers = [\"Righteousness\", \"Courage\", \"Benevolence\", \"Respect\", \"Honesty\"]\n",
        "tiebreaker_question = \"If you had to choose one, which Samurai virtue would you uphold above all others?\"\n",
        "\n",
        "tiebreaker_answer = ask_question(tiebreaker_question, tiebreaker_answers)\n",
        "\n",
        "result = answers.index(max(answers)), answers.count(max(answers))\n",
        "character = characters.get(result, \"Unknown\")\n",
        "\n",
        "if character == \"Unknown\" and tiebreaker_answer in [2, 3]:\n",
        "    character = \"Norio\"\n",
        "elif character == \"Unknown\" and tiebreaker_answer in [1, 4, 5]:\n",
        "    character = \"Tenzo\"\n",
        "\n",
        "print(f\"\\nYour character is: {character}\")\n"
      ]
    }
  ]
}